{
 "cells": [
  {
   "cell_type": "markdown",
   "id": "17c64ef2",
   "metadata": {},
   "source": [
    "## import libraries"
   ]
  },
  {
   "cell_type": "code",
   "execution_count": 3,
   "id": "6346fad3",
   "metadata": {},
   "outputs": [
    {
     "name": "stdout",
     "output_type": "stream",
     "text": [
      "Requirement already satisfied: torch in ./ipeo_venv/lib/python3.7/site-packages (1.13.0)\n",
      "Requirement already satisfied: torchvision in ./ipeo_venv/lib/python3.7/site-packages (0.14.0)\n",
      "Collecting torchtext\n",
      "  Downloading torchtext-0.14.0-cp37-cp37m-manylinux1_x86_64.whl (2.0 MB)\n",
      "\u001b[2K     \u001b[90m━━━━━━━━━━━━━━━━━━━━━━━━━━━━━━━━━━━━━━━━\u001b[0m \u001b[32m2.0/2.0 MB\u001b[0m \u001b[31m10.7 MB/s\u001b[0m eta \u001b[36m0:00:00\u001b[0m00:01\u001b[0m00:01\u001b[0m\n",
      "\u001b[?25hCollecting pytorch_lightning\n",
      "  Downloading pytorch_lightning-1.8.2-py3-none-any.whl (798 kB)\n",
      "\u001b[2K     \u001b[90m━━━━━━━━━━━━━━━━━━━━━━━━━━━━━━━━━━━━━━━\u001b[0m \u001b[32m798.7/798.7 kB\u001b[0m \u001b[31m9.3 MB/s\u001b[0m eta \u001b[36m0:00:00\u001b[0m00:01\u001b[0m\n",
      "\u001b[?25hCollecting tensorboard\n",
      "  Downloading tensorboard-2.11.0-py3-none-any.whl (6.0 MB)\n",
      "\u001b[2K     \u001b[90m━━━━━━━━━━━━━━━━━━━━━━━━━━━━━━━━━━━━━━━━\u001b[0m \u001b[32m6.0/6.0 MB\u001b[0m \u001b[31m14.5 MB/s\u001b[0m eta \u001b[36m0:00:00\u001b[0m:00:01\u001b[0m00:01\u001b[0m\n",
      "\u001b[?25hRequirement already satisfied: matplotlib in ./ipeo_venv/lib/python3.7/site-packages (3.5.3)\n",
      "Requirement already satisfied: tqdm in ./ipeo_venv/lib/python3.7/site-packages (4.64.1)\n",
      "Requirement already satisfied: wget in ./ipeo_venv/lib/python3.7/site-packages (3.2)\n",
      "Requirement already satisfied: nvidia-cudnn-cu11==8.5.0.96 in ./ipeo_venv/lib/python3.7/site-packages (from torch) (8.5.0.96)\n",
      "Requirement already satisfied: nvidia-cuda-nvrtc-cu11==11.7.99 in ./ipeo_venv/lib/python3.7/site-packages (from torch) (11.7.99)\n",
      "Requirement already satisfied: nvidia-cublas-cu11==11.10.3.66 in ./ipeo_venv/lib/python3.7/site-packages (from torch) (11.10.3.66)\n",
      "Requirement already satisfied: nvidia-cuda-runtime-cu11==11.7.99 in ./ipeo_venv/lib/python3.7/site-packages (from torch) (11.7.99)\n",
      "Requirement already satisfied: typing-extensions in ./ipeo_venv/lib/python3.7/site-packages (from torch) (4.4.0)\n",
      "Requirement already satisfied: wheel in ./ipeo_venv/lib/python3.7/site-packages (from nvidia-cublas-cu11==11.10.3.66->torch) (0.38.4)\n",
      "Requirement already satisfied: setuptools in ./ipeo_venv/lib/python3.7/site-packages (from nvidia-cublas-cu11==11.10.3.66->torch) (41.2.0)\n",
      "Requirement already satisfied: requests in ./ipeo_venv/lib/python3.7/site-packages (from torchvision) (2.28.1)\n",
      "Requirement already satisfied: numpy in ./ipeo_venv/lib/python3.7/site-packages (from torchvision) (1.21.6)\n",
      "Requirement already satisfied: pillow!=8.3.*,>=5.3.0 in ./ipeo_venv/lib/python3.7/site-packages (from torchvision) (9.3.0)\n",
      "Requirement already satisfied: packaging>=17.0 in ./ipeo_venv/lib/python3.7/site-packages (from pytorch_lightning) (21.3)\n",
      "Collecting torchmetrics>=0.7.0\n",
      "  Downloading torchmetrics-0.10.3-py3-none-any.whl (529 kB)\n",
      "\u001b[2K     \u001b[90m━━━━━━━━━━━━━━━━━━━━━━━━━━━━━━━━━━━━━━━\u001b[0m \u001b[32m529.7/529.7 kB\u001b[0m \u001b[31m5.7 MB/s\u001b[0m eta \u001b[36m0:00:00\u001b[0m00:01\u001b[0m\n",
      "\u001b[?25hCollecting lightning-utilities==0.3.*\n",
      "  Downloading lightning_utilities-0.3.0-py3-none-any.whl (15 kB)\n",
      "Collecting fsspec[http]>2021.06.0\n",
      "  Downloading fsspec-2022.11.0-py3-none-any.whl (139 kB)\n",
      "\u001b[2K     \u001b[90m━━━━━━━━━━━━━━━━━━━━━━━━━━━━━━━━━━━━━━━\u001b[0m \u001b[32m139.5/139.5 kB\u001b[0m \u001b[31m3.7 MB/s\u001b[0m eta \u001b[36m0:00:00\u001b[0m\n",
      "\u001b[?25hCollecting PyYAML>=5.4\n",
      "  Downloading PyYAML-6.0-cp37-cp37m-manylinux_2_5_x86_64.manylinux1_x86_64.manylinux_2_12_x86_64.manylinux2010_x86_64.whl (596 kB)\n",
      "\u001b[2K     \u001b[90m━━━━━━━━━━━━━━━━━━━━━━━━━━━━━━━━━━━━━━━\u001b[0m \u001b[32m596.3/596.3 kB\u001b[0m \u001b[31m2.5 MB/s\u001b[0m eta \u001b[36m0:00:00\u001b[0m00:01\u001b[0m\n",
      "\u001b[?25hCollecting fire\n",
      "  Downloading fire-0.4.0.tar.gz (87 kB)\n",
      "\u001b[2K     \u001b[90m━━━━━━━━━━━━━━━━━━━━━━━━━━━━━━━━━━━━━━━\u001b[0m \u001b[32m87.7/87.7 kB\u001b[0m \u001b[31m935.4 kB/s\u001b[0m eta \u001b[36m0:00:00\u001b[0ma \u001b[36m0:00:01\u001b[0m\n",
      "\u001b[?25h  Preparing metadata (setup.py) ... \u001b[?25ldone\n",
      "\u001b[?25hCollecting absl-py>=0.4\n",
      "  Downloading absl_py-1.3.0-py3-none-any.whl (124 kB)\n",
      "\u001b[2K     \u001b[90m━━━━━━━━━━━━━━━━━━━━━━━━━━━━━━━━━━━━━━━\u001b[0m \u001b[32m124.6/124.6 kB\u001b[0m \u001b[31m5.2 MB/s\u001b[0m eta \u001b[36m0:00:00\u001b[0m\n",
      "\u001b[?25hCollecting tensorboard-data-server<0.7.0,>=0.6.0\n",
      "  Downloading tensorboard_data_server-0.6.1-py3-none-manylinux2010_x86_64.whl (4.9 MB)\n",
      "\u001b[2K     \u001b[90m━━━━━━━━━━━━━━━━━━━━━━━━━━━━━━━━━━━━━━━━\u001b[0m \u001b[32m4.9/4.9 MB\u001b[0m \u001b[31m29.4 MB/s\u001b[0m eta \u001b[36m0:00:00\u001b[0m:00:01\u001b[0m\n",
      "\u001b[?25hCollecting google-auth<3,>=1.6.3\n",
      "  Downloading google_auth-2.14.1-py2.py3-none-any.whl (175 kB)\n",
      "\u001b[2K     \u001b[90m━━━━━━━━━━━━━━━━━━━━━━━━━━━━━━━━━━━━━━\u001b[0m \u001b[32m175.4/175.4 kB\u001b[0m \u001b[31m19.4 MB/s\u001b[0m eta \u001b[36m0:00:00\u001b[0m\n",
      "\u001b[?25hCollecting werkzeug>=1.0.1\n",
      "  Downloading Werkzeug-2.2.2-py3-none-any.whl (232 kB)\n",
      "\u001b[2K     \u001b[90m━━━━━━━━━━━━━━━━━━━━━━━━━━━━━━━━━━━━━━\u001b[0m \u001b[32m232.7/232.7 kB\u001b[0m \u001b[31m25.3 MB/s\u001b[0m eta \u001b[36m0:00:00\u001b[0m\n",
      "\u001b[?25hCollecting tensorboard-plugin-wit>=1.6.0\n",
      "  Downloading tensorboard_plugin_wit-1.8.1-py3-none-any.whl (781 kB)\n",
      "\u001b[2K     \u001b[90m━━━━━━━━━━━━━━━━━━━━━━━━━━━━━━━━━━━━━━━\u001b[0m \u001b[32m781.3/781.3 kB\u001b[0m \u001b[31m5.3 MB/s\u001b[0m eta \u001b[36m0:00:00\u001b[0m00:01\u001b[0m\n",
      "\u001b[?25hCollecting google-auth-oauthlib<0.5,>=0.4.1\n",
      "  Downloading google_auth_oauthlib-0.4.6-py2.py3-none-any.whl (18 kB)\n",
      "Collecting grpcio>=1.24.3\n",
      "  Downloading grpcio-1.50.0-cp37-cp37m-manylinux_2_17_x86_64.manylinux2014_x86_64.whl (4.7 MB)\n",
      "\u001b[2K     \u001b[90m━━━━━━━━━━━━━━━━━━━━━━━━━━━━━━━━━━━━━━━━\u001b[0m \u001b[32m4.7/4.7 MB\u001b[0m \u001b[31m12.6 MB/s\u001b[0m eta \u001b[36m0:00:00\u001b[0m:00:01\u001b[0m\n",
      "\u001b[?25hCollecting markdown>=2.6.8\n",
      "  Downloading Markdown-3.4.1-py3-none-any.whl (93 kB)\n",
      "\u001b[2K     \u001b[90m━━━━━━━━━━━━━━━━━━━━━━━━━━━━━━━━━━━━━━━━\u001b[0m \u001b[32m93.3/93.3 kB\u001b[0m \u001b[31m7.8 MB/s\u001b[0m eta \u001b[36m0:00:00\u001b[0m\n",
      "\u001b[?25hCollecting protobuf<4,>=3.9.2\n",
      "  Downloading protobuf-3.20.3-cp37-cp37m-manylinux_2_5_x86_64.manylinux1_x86_64.whl (1.0 MB)\n",
      "\u001b[2K     \u001b[90m━━━━━━━━━━━━━━━━━━━━━━━━━━━━━━━━━━━━━━━━\u001b[0m \u001b[32m1.0/1.0 MB\u001b[0m \u001b[31m4.4 MB/s\u001b[0m eta \u001b[36m0:00:00\u001b[0m0:00:01\u001b[0m\n",
      "\u001b[?25hRequirement already satisfied: python-dateutil>=2.7 in ./ipeo_venv/lib/python3.7/site-packages (from matplotlib) (2.8.2)\n",
      "Requirement already satisfied: fonttools>=4.22.0 in ./ipeo_venv/lib/python3.7/site-packages (from matplotlib) (4.38.0)\n",
      "Requirement already satisfied: kiwisolver>=1.0.1 in ./ipeo_venv/lib/python3.7/site-packages (from matplotlib) (1.4.4)\n",
      "Requirement already satisfied: cycler>=0.10 in ./ipeo_venv/lib/python3.7/site-packages (from matplotlib) (0.11.0)\n",
      "Requirement already satisfied: pyparsing>=2.2.1 in ./ipeo_venv/lib/python3.7/site-packages (from matplotlib) (3.0.9)\n",
      "Collecting aiohttp!=4.0.0a0,!=4.0.0a1\n",
      "  Downloading aiohttp-3.8.3-cp37-cp37m-manylinux_2_17_x86_64.manylinux2014_x86_64.whl (948 kB)\n",
      "\u001b[2K     \u001b[90m━━━━━━━━━━━━━━━━━━━━━━━━━━━━━━━━━━━━━━━\u001b[0m \u001b[32m948.0/948.0 kB\u001b[0m \u001b[31m5.8 MB/s\u001b[0m eta \u001b[36m0:00:00\u001b[0m00:01\u001b[0m\n",
      "\u001b[?25hCollecting rsa<5,>=3.1.4\n",
      "  Downloading rsa-4.9-py3-none-any.whl (34 kB)\n",
      "Collecting cachetools<6.0,>=2.0.0\n",
      "  Downloading cachetools-5.2.0-py3-none-any.whl (9.3 kB)\n",
      "Requirement already satisfied: six>=1.9.0 in ./ipeo_venv/lib/python3.7/site-packages (from google-auth<3,>=1.6.3->tensorboard) (1.16.0)\n",
      "Collecting pyasn1-modules>=0.2.1\n",
      "  Downloading pyasn1_modules-0.2.8-py2.py3-none-any.whl (155 kB)\n",
      "\u001b[2K     \u001b[90m━━━━━━━━━━━━━━━━━━━━━━━━━━━━━━━━━━━━━━━\u001b[0m \u001b[32m155.3/155.3 kB\u001b[0m \u001b[31m9.7 MB/s\u001b[0m eta \u001b[36m0:00:00\u001b[0m\n",
      "\u001b[?25hCollecting requests-oauthlib>=0.7.0\n",
      "  Downloading requests_oauthlib-1.3.1-py2.py3-none-any.whl (23 kB)\n",
      "Requirement already satisfied: importlib-metadata>=4.4 in ./ipeo_venv/lib/python3.7/site-packages (from markdown>=2.6.8->tensorboard) (5.0.0)\n",
      "Requirement already satisfied: certifi>=2017.4.17 in ./ipeo_venv/lib/python3.7/site-packages (from requests->torchvision) (2022.9.24)\n",
      "Requirement already satisfied: urllib3<1.27,>=1.21.1 in ./ipeo_venv/lib/python3.7/site-packages (from requests->torchvision) (1.26.12)\n",
      "Requirement already satisfied: charset-normalizer<3,>=2 in ./ipeo_venv/lib/python3.7/site-packages (from requests->torchvision) (2.1.1)\n",
      "Requirement already satisfied: idna<4,>=2.5 in ./ipeo_venv/lib/python3.7/site-packages (from requests->torchvision) (3.4)\n",
      "Requirement already satisfied: MarkupSafe>=2.1.1 in ./ipeo_venv/lib/python3.7/site-packages (from werkzeug>=1.0.1->tensorboard) (2.1.1)\n",
      "Collecting aiosignal>=1.1.2\n",
      "  Downloading aiosignal-1.3.1-py3-none-any.whl (7.6 kB)\n",
      "Collecting multidict<7.0,>=4.5\n",
      "  Downloading multidict-6.0.2-cp37-cp37m-manylinux_2_17_x86_64.manylinux2014_x86_64.whl (94 kB)\n",
      "\u001b[2K     \u001b[90m━━━━━━━━━━━━━━━━━━━━━━━━━━━━━━━━━━━━━━━━\u001b[0m \u001b[32m94.8/94.8 kB\u001b[0m \u001b[31m3.1 MB/s\u001b[0m eta \u001b[36m0:00:00\u001b[0m\n",
      "\u001b[?25hCollecting frozenlist>=1.1.1\n",
      "  Downloading frozenlist-1.3.3-cp37-cp37m-manylinux_2_5_x86_64.manylinux1_x86_64.manylinux_2_17_x86_64.manylinux2014_x86_64.whl (148 kB)\n",
      "\u001b[2K     \u001b[90m━━━━━━━━━━━━━━━━━━━━━━━━━━━━━━━━━━━━━━━\u001b[0m \u001b[32m148.0/148.0 kB\u001b[0m \u001b[31m7.4 MB/s\u001b[0m eta \u001b[36m0:00:00\u001b[0m\n",
      "\u001b[?25hCollecting asynctest==0.13.0\n",
      "  Downloading asynctest-0.13.0-py3-none-any.whl (26 kB)\n",
      "Requirement already satisfied: attrs>=17.3.0 in ./ipeo_venv/lib/python3.7/site-packages (from aiohttp!=4.0.0a0,!=4.0.0a1->fsspec[http]>2021.06.0->pytorch_lightning) (22.1.0)\n",
      "Collecting async-timeout<5.0,>=4.0.0a3\n",
      "  Downloading async_timeout-4.0.2-py3-none-any.whl (5.8 kB)\n",
      "Collecting yarl<2.0,>=1.0\n",
      "  Downloading yarl-1.8.1-cp37-cp37m-manylinux_2_17_x86_64.manylinux2014_x86_64.whl (231 kB)\n",
      "\u001b[2K     \u001b[90m━━━━━━━━━━━━━━━━━━━━━━━━━━━━━━━━━━━━━━━\u001b[0m \u001b[32m231.3/231.3 kB\u001b[0m \u001b[31m2.6 MB/s\u001b[0m eta \u001b[36m0:00:00\u001b[0m00:01\u001b[0m\n",
      "\u001b[?25hRequirement already satisfied: zipp>=0.5 in ./ipeo_venv/lib/python3.7/site-packages (from importlib-metadata>=4.4->markdown>=2.6.8->tensorboard) (3.10.0)\n",
      "Collecting pyasn1<0.5.0,>=0.4.6\n",
      "  Downloading pyasn1-0.4.8-py2.py3-none-any.whl (77 kB)\n",
      "\u001b[2K     \u001b[90m━━━━━━━━━━━━━━━━━━━━━━━━━━━━━━━━━━━━━━━━\u001b[0m \u001b[32m77.1/77.1 kB\u001b[0m \u001b[31m3.5 MB/s\u001b[0m eta \u001b[36m0:00:00\u001b[0m\n",
      "\u001b[?25hCollecting oauthlib>=3.0.0\n",
      "  Downloading oauthlib-3.2.2-py3-none-any.whl (151 kB)\n",
      "\u001b[2K     \u001b[90m━━━━━━━━━━━━━━━━━━━━━━━━━━━━━━━━━━━━━━\u001b[0m \u001b[32m151.7/151.7 kB\u001b[0m \u001b[31m15.7 MB/s\u001b[0m eta \u001b[36m0:00:00\u001b[0m\n",
      "\u001b[?25hCollecting termcolor\n",
      "  Downloading termcolor-2.1.0-py3-none-any.whl (5.8 kB)\n",
      "Building wheels for collected packages: fire\n",
      "  Building wheel for fire (setup.py) ... \u001b[?25ldone\n",
      "\u001b[?25h  Created wheel for fire: filename=fire-0.4.0-py2.py3-none-any.whl size=115928 sha256=56a8c6d51921e7d8a6390ea9ffdc851b043a9057ae4977d1532d6c96cdb114d3\n",
      "  Stored in directory: /home/atexier/.cache/pip/wheels/83/21/65/2ac62db55efa6e6edfad09f4e315aa82a35ab138f51e784fb1\n",
      "Successfully built fire\n",
      "Installing collected packages: tensorboard-plugin-wit, pyasn1, werkzeug, termcolor, tensorboard-data-server, rsa, PyYAML, pyasn1-modules, protobuf, oauthlib, multidict, grpcio, fsspec, frozenlist, cachetools, asynctest, async-timeout, absl-py, yarl, requests-oauthlib, markdown, google-auth, fire, aiosignal, lightning-utilities, google-auth-oauthlib, aiohttp, torchtext, torchmetrics, tensorboard, pytorch_lightning\n",
      "Successfully installed PyYAML-6.0 absl-py-1.3.0 aiohttp-3.8.3 aiosignal-1.3.1 async-timeout-4.0.2 asynctest-0.13.0 cachetools-5.2.0 fire-0.4.0 frozenlist-1.3.3 fsspec-2022.11.0 google-auth-2.14.1 google-auth-oauthlib-0.4.6 grpcio-1.50.0 lightning-utilities-0.3.0 markdown-3.4.1 multidict-6.0.2 oauthlib-3.2.2 protobuf-3.20.3 pyasn1-0.4.8 pyasn1-modules-0.2.8 pytorch_lightning-1.8.2 requests-oauthlib-1.3.1 rsa-4.9 tensorboard-2.11.0 tensorboard-data-server-0.6.1 tensorboard-plugin-wit-1.8.1 termcolor-2.1.0 torchmetrics-0.10.3 torchtext-0.14.0 werkzeug-2.2.2 yarl-1.8.1\n"
     ]
    }
   ],
   "source": [
    "import sys\n",
    "!pip install torch torchvision torchtext pytorch_lightning tensorboard matplotlib tqdm wget"
   ]
  },
  {
   "cell_type": "code",
   "execution_count": 1,
   "id": "a7378ae6",
   "metadata": {},
   "outputs": [
    {
     "name": "stdout",
     "output_type": "stream",
     "text": [
      "Sun Nov 27 19:19:50 2022       \r\n",
      "+-----------------------------------------------------------------------------+\r\n",
      "| NVIDIA-SMI 455.23.05    Driver Version: 455.23.05    CUDA Version: 11.1     |\r\n",
      "|-------------------------------+----------------------+----------------------+\r\n",
      "| GPU  Name        Persistence-M| Bus-Id        Disp.A | Volatile Uncorr. ECC |\r\n",
      "| Fan  Temp  Perf  Pwr:Usage/Cap|         Memory-Usage | GPU-Util  Compute M. |\r\n",
      "|                               |                      |               MIG M. |\r\n",
      "|===============================+======================+======================|\r\n",
      "|   0  Tesla V100-PCIE...  On   | 00000000:86:00.0 Off |                  Off |\r\n",
      "| N/A   33C    P0    23W / 250W |      4MiB / 32510MiB |      0%      Default |\r\n",
      "|                               |                      |                  N/A |\r\n",
      "+-------------------------------+----------------------+----------------------+\r\n",
      "                                                                               \r\n",
      "+-----------------------------------------------------------------------------+\r\n",
      "| Processes:                                                                  |\r\n",
      "|  GPU   GI   CI        PID   Type   Process name                  GPU Memory |\r\n",
      "|        ID   ID                                                   Usage      |\r\n",
      "|=============================================================================|\r\n",
      "|  No running processes found                                                 |\r\n",
      "+-----------------------------------------------------------------------------+\r\n"
     ]
    }
   ],
   "source": [
    "import torch\n",
    "torch.cuda.is_available()\n",
    "!nvidia-smi"
   ]
  },
  {
   "cell_type": "code",
   "execution_count": 2,
   "id": "9b61cc75",
   "metadata": {},
   "outputs": [],
   "source": [
    "import matplotlib.pyplot as plt\n",
    "import torchvision.transforms as T\n",
    "import numpy as np \n",
    "import csv\n",
    "import os\n",
    "from torch.utils.data import DataLoader\n",
    "from tqdm.auto import tqdm\n",
    "from torch import nn\n",
    "\n"
   ]
  },
  {
   "cell_type": "markdown",
   "id": "c7f3b781",
   "metadata": {},
   "source": [
    "## Load data"
   ]
  },
  {
   "cell_type": "code",
   "execution_count": 3,
   "id": "b678862e",
   "metadata": {},
   "outputs": [],
   "source": [
    "import urllib.request\n",
    "import os\n",
    "import zipfile\n",
    "if not os.path.exists(os.getcwd()+\"/ipeo_data\"):\n",
    "    with zipfile.ZipFile(os.getcwd()+\"/ipeo_data.zip\", 'r') as zip_ref:\n",
    "        zip_ref.extractall()\n"
   ]
  },
  {
   "cell_type": "code",
   "execution_count": 42,
   "id": "e394c13f",
   "metadata": {},
   "outputs": [],
   "source": [
    "train_csv = open(os.getcwd()+\"/ipeo_data/splits/train.csv\")\n",
    "train_csv  = csv.reader(train_csv)\n",
    "test_csv = open(os.getcwd()+\"/ipeo_data/splits/test.csv\")\n",
    "test_csv  = csv.reader(test_csv)\n",
    "val_csv = open(os.getcwd()+\"/ipeo_data/splits/val.csv\")\n",
    "val_csv  = csv.reader(val_csv)\n",
    "### CAREFUL need to remove the \"25595_11025_label\" from the validation dataset. Empty image ?\n",
    "### remove direcly in the val excel fil (row = 629)"
   ]
  },
  {
   "cell_type": "code",
   "execution_count": 43,
   "id": "cbaa75dd",
   "metadata": {},
   "outputs": [
    {
     "data": {
      "text/plain": [
       "7357"
      ]
     },
     "execution_count": 43,
     "metadata": {},
     "output_type": "execute_result"
    }
   ],
   "source": [
    "len(list(train_csv))"
   ]
  },
  {
   "cell_type": "markdown",
   "id": "b3872783",
   "metadata": {},
   "source": [
    "## Set up the data"
   ]
  },
  {
   "cell_type": "code",
   "execution_count": 79,
   "id": "9bf4a2be",
   "metadata": {},
   "outputs": [],
   "source": [
    "from torch.utils.data import Dataset\n",
    "\n",
    "from PIL import Image\n",
    "\n",
    "import os\n",
    "import glob\n",
    "\n",
    "\"\"\"CLASS rocks (1), scree (2), sparse rocks (3), water (4), glacier and permanent snow (5), forest(6), sparse forest(7),\n",
    "grasslands and others (8).\"\"\"\n",
    "\n",
    "class Alpine(Dataset):\n",
    "\n",
    "    # mapping between label class names and indices\n",
    "    LABEL_CLASSES = {\n",
    "      'rocks': \t\t  0,\n",
    "      'scree': \t\t\t    1,\n",
    "      'sparse_rocks': \t  2,\n",
    "      'water': \t\t\t\t      3,\n",
    "      'glacier_and_permanent_snow': \t\t\t    4,\n",
    "      'forest': \t\t\t    5,\n",
    "      'sparse_forest':   6,\n",
    "      'grasslands_and_others': \t\t\t\t    7,\n",
    "      \n",
    "    }\n",
    "\n",
    "    def __init__(self, transforms=None, split='train'):\n",
    "        self.transforms = transforms\n",
    "        #only for label_image\n",
    "        transforms_label = T.Compose([\n",
    "        T.ToTensor()\n",
    "        ])\n",
    "        self.transforms_label = transforms_label\n",
    "        \n",
    "        # prepare data\n",
    "        self.data = []                                  # list of tuples of (image path, label class)\n",
    "        length=0\n",
    "        # get images with correct index according to dataset split\n",
    "        if split=='train':\n",
    "            data_csv = open(os.getcwd()+\"/ipeo_data/splits/train.csv\")\n",
    "            data_csv  = csv.reader(data_csv)\n",
    "            length = 736\n",
    "        if split=='test':\n",
    "            data_csv = open(os.getcwd()+\"/ipeo_data/splits/test.csv\")\n",
    "            data_csv  = csv.reader(data_csv)\n",
    "            length = 368\n",
    "        if split=='val':\n",
    "            data_csv = open(os.getcwd()+\"/ipeo_data/splits/val.csv\")\n",
    "            data_csv  = csv.reader(data_csv)\n",
    "            length = 123\n",
    "            \n",
    "        i=0\n",
    "        print(length)\n",
    "        for row in data_csv :\n",
    "            if i<length:\n",
    "                img_name = os.getcwd()+\"/ipeo_data/rgb/\"+row[0]+\"_rgb.tif\"\n",
    "                img_label_name = os.getcwd()+\"/ipeo_data/alpine_label/\"+row[0]+\"_label.tif\"   \n",
    "                i+=1\n",
    "        # example format: 'baseFolder/agricultural/agricultural07.tif'\n",
    "                self.data.append((\n",
    "                    img_name,\n",
    "                    img_label_name          # get index for label class\n",
    "                ))\n",
    "\n",
    "\n",
    "    #TODO: please provide the remaining functions required for the torch.utils.data.Dataset class.\n",
    "    def __len__(self):\n",
    "        return len(self.data)\n",
    "\n",
    "\n",
    "    def __getitem__(self, x):\n",
    "        img_name, img_label_name = self.data[x]\n",
    "    \n",
    "        img = Image.open(img_name)\n",
    "        img_label = Image.open(img_label_name)\n",
    "        \n",
    "        \n",
    "        if self.transforms is not None:\n",
    "            img = self.transforms(img)\n",
    "            img_label = self.transforms_label(img_label)\n",
    "        return img,img_label\n"
   ]
  },
  {
   "cell_type": "code",
   "execution_count": 81,
   "id": "4816b2bf",
   "metadata": {},
   "outputs": [
    {
     "name": "stdout",
     "output_type": "stream",
     "text": [
      "736\n",
      "dataset of length 736\n"
     ]
    },
    {
     "data": {
      "application/vnd.jupyter.widget-view+json": {
       "model_id": "e8cff199965843e68244b74b60d5159e",
       "version_major": 2,
       "version_minor": 0
      },
      "text/plain": [
       "interactive(children=(Dropdown(description='idx', options=(0, 1, 2, 3, 4, 5, 6, 7, 8, 9, 10, 11, 12, 13, 14, 1…"
      ]
     },
     "metadata": {},
     "output_type": "display_data"
    }
   ],
   "source": [
    "# initialize the dataset (call the constructor __init__)\n",
    "\n",
    "dataset = Alpine(split= \"train\")\n",
    "print(f\"dataset of length {len(dataset)}\")\n",
    "# plot individual samples\n",
    "from ipywidgets import interact\n",
    "@interact(idx=range(100))\n",
    "def plot_sample(idx=0):\n",
    "    img, img_label = dataset[idx]\n",
    "    plt.figure(figsize=(15, 6))\n",
    "    plt.subplot(1,2,1)\n",
    "    plt.imshow(img)\n",
    "    plt.subplot(1,2,2)\n",
    "    plt.imshow(img_label)\n",
    "\n",
    "\n"
   ]
  },
  {
   "cell_type": "markdown",
   "id": "d7c285e9",
   "metadata": {},
   "source": [
    "## Test ( Image input 400 sur 400 / label 200 sur 200 --> need to resize the input)"
   ]
  },
  {
   "cell_type": "code",
   "execution_count": 82,
   "id": "4d3c7602",
   "metadata": {},
   "outputs": [
    {
     "name": "stdout",
     "output_type": "stream",
     "text": [
      "736\n",
      "736\n"
     ]
    }
   ],
   "source": [
    "train_dataset = Alpine(transforms=transforms_train, split='train')\n",
    "print(len(train_dataset))"
   ]
  },
  {
   "cell_type": "code",
   "execution_count": null,
   "id": "7bdae920",
   "metadata": {},
   "outputs": [],
   "source": [
    "transforms_train"
   ]
  },
  {
   "cell_type": "code",
   "execution_count": null,
   "id": "b33f6ee9",
   "metadata": {},
   "outputs": [],
   "source": [
    "plt.figure(figsize=(15, 6))\n",
    "plt.subplot(1,2,1)\n",
    "plt.imshow(unnormalize(train_dataset[94][0]).permute(1,2,0))\n",
    "plt.subplot(1,2,2)\n",
    "plt.imshow((train_dataset[94][1]).permute(1,2,0))"
   ]
  },
  {
   "cell_type": "code",
   "execution_count": null,
   "id": "ef052b75",
   "metadata": {},
   "outputs": [],
   "source": [
    "train_dataset[94][0].permute(1,2,0).shape,train_dataset[94][1].permute(1,2,0).shape"
   ]
  },
  {
   "cell_type": "code",
   "execution_count": null,
   "id": "d8094cff",
   "metadata": {},
   "outputs": [],
   "source": [
    "train_dataset[94][0].flatten(-2).permute(1,0).shape"
   ]
  },
  {
   "cell_type": "code",
   "execution_count": null,
   "id": "7f3ec2a8",
   "metadata": {},
   "outputs": [],
   "source": [
    "(train_dataset[5000][1]).min()"
   ]
  },
  {
   "cell_type": "markdown",
   "id": "64ae0a2d",
   "metadata": {},
   "source": [
    "### Find the mean and stf of the Dataset || No need run  anymore"
   ]
  },
  {
   "cell_type": "code",
   "execution_count": 83,
   "id": "e2cc6ed8",
   "metadata": {},
   "outputs": [
    {
     "name": "stdout",
     "output_type": "stream",
     "text": [
      "736\n",
      "368\n",
      "123\n"
     ]
    },
    {
     "data": {
      "text/plain": [
       "'\\nGOT: \\nmean: tensor([0.4572, 0.5079, 0.4388])\\nstd:  tensor([0.2366, 0.2141, 0.1992])\\nUse in normalisze transforms\\n\\n'"
      ]
     },
     "execution_count": 83,
     "metadata": {},
     "output_type": "execute_result"
    }
   ],
   "source": [
    "transforms_train = T.Compose([\n",
    "  T.ToTensor()\n",
    "])\n",
    "\n",
    "# dataset\n",
    "train_dataset = Alpine(transforms=transforms_train, split='train')\n",
    "test_dataset = Alpine(transforms=transforms_train, split='test')\n",
    "val_dataset = Alpine(transforms=transforms_train, split='val')\n",
    "\n",
    "# data loader\n",
    "train_loader = DataLoader(train_dataset, \n",
    "                          batch_size  = 16, \n",
    "                          shuffle     = False, \n",
    "                          num_workers = 1,\n",
    "                          pin_memory  = True)\n",
    "test_loader = DataLoader(test_dataset, \n",
    "                          batch_size  = 16, \n",
    "                          shuffle     = False, \n",
    "                          num_workers = 1,\n",
    "                          pin_memory  = True)\n",
    "val_loader = DataLoader(val_dataset, \n",
    "                          batch_size  = 16, \n",
    "                          shuffle     = False, \n",
    "                          num_workers = 1,\n",
    "                          pin_memory  = True)\n",
    "\n",
    "def mean_std():\n",
    "    ####### COMPUTE MEAN / STD\n",
    "\n",
    "    # placeholders\n",
    "    psum    = torch.tensor([0.0, 0.0, 0.0])\n",
    "    psum_sq = torch.tensor([0.0, 0.0, 0.0])\n",
    "\n",
    "    #The first two steps are done in the snippet below. Note that we set axis = [0, 2, 3] \n",
    "    #to compute mean values with respect to axis 1. The dimensions of inputs is [batch_size x 3 x image_size x image_size],\n",
    "    #so we need to make sure we aggregate values per each RGB channel separately.\n",
    "\n",
    "    # loop through images\n",
    "    for img,img_label in tqdm(train_loader):\n",
    "        psum    += img.sum(axis        = [0, 2, 3])\n",
    "        psum_sq += (img ** 2).sum(axis = [0, 2, 3])\n",
    "\n",
    "    for img,img_label in tqdm(test_loader):\n",
    "        psum    += img.sum(axis        = [0, 2, 3])\n",
    "        psum_sq += (img ** 2).sum(axis = [0, 2, 3])\n",
    "\n",
    "    for img,img_label in tqdm(val_loader):\n",
    "        psum    += img.sum(axis        = [0, 2, 3])\n",
    "        psum_sq += (img ** 2).sum(axis = [0, 2, 3])\n",
    "\n",
    "    ####### FINAL CALCULATIONS\n",
    "\n",
    "    # image count\n",
    "    s = 0\n",
    "    for image in test_csv :\n",
    "        s+=1\n",
    "    for image in train_csv :\n",
    "        s+=1\n",
    "    for image in val_csv :\n",
    "        s+=1\n",
    "    # pixel count\n",
    "    image_size = train_dataset[0][0].shape #[3,400,400]     \n",
    "    count = s * image_size[1] * image_size[1]\n",
    "\n",
    "    # mean and std\n",
    "    total_mean = psum / count\n",
    "    total_var  = (psum_sq / count) - (total_mean ** 2)\n",
    "    total_std  = torch.sqrt(total_var)\n",
    "\n",
    "    # output\n",
    "    print('mean: '  + str(total_mean))\n",
    "    print('std:  '  + str(total_std))\n",
    "    return total_mean,total_std\n",
    "# mean,std = mean_std()\n",
    "\"\"\"\n",
    "GOT: \n",
    "mean: tensor([0.4572, 0.5079, 0.4388])\n",
    "std:  tensor([0.2366, 0.2141, 0.1992])\n",
    "Use in normalisze transforms\n",
    "\n",
    "\"\"\""
   ]
  },
  {
   "cell_type": "markdown",
   "id": "bdb99a83",
   "metadata": {},
   "source": [
    "## Transforms"
   ]
  },
  {
   "cell_type": "code",
   "execution_count": 84,
   "id": "64a067af",
   "metadata": {},
   "outputs": [],
   "source": [
    "\n",
    "# mean and standard deviation of the dataset \n",
    "mean=torch.tensor([0.4572, 0.5079, 0.4388])\n",
    "std=torch.tensor([0.2366, 0.2141, 0.1992])\n",
    "# normalize image [0-1] (or 0-255) to zero-mean unit standard deviation\n",
    "normalize = T.Normalize(mean, std)\n",
    "# we invert normalization for plotting later\n",
    "std_inv = 1 / (std + 1e-7)\n",
    "unnormalize = T.Normalize(-mean * std_inv, std_inv)\n",
    "\n",
    "transforms_train = T.Compose([\n",
    "  #TODO: add your own transforms here\n",
    "\n",
    "  T.Resize((200, 200)),\n",
    "  T.ToTensor(),\n",
    "  normalize\n",
    "])\n",
    "\"\"\"\n",
    "  T.RandomResizedCrop((200, 200)),\n",
    "  T.RandomGrayscale(),\n",
    "  T.RandomHorizontalFlip(),\n",
    "  T.RandomApply([T.GaussianBlur(kernel_size=7)]),\n",
    "  T.RandomPosterize(bits=8),\n",
    "  T.RandomVerticalFlip(),\n",
    "  T.ColorJitter(),\n",
    "\"\"\"\n",
    "# we do not augment the validation dataset (aside from resizing and tensor casting)\n",
    "transforms_val = T.Compose([\n",
    "  T.Resize((200, 200)),\n",
    "  T.ToTensor(),\n",
    "  normalize\n",
    "])\n",
    "\n"
   ]
  },
  {
   "cell_type": "markdown",
   "id": "564dfe59",
   "metadata": {},
   "source": [
    "## Model  Base on AlexNet + https://github.com/milesial/Pytorch-UNet"
   ]
  },
  {
   "cell_type": "code",
   "execution_count": 85,
   "id": "ee67fd45",
   "metadata": {},
   "outputs": [],
   "source": [
    "import torch.nn.functional as F\n",
    "class DoubleConv(nn.Module):\n",
    "    \"\"\"(convolution => [BN] => ReLU) * 2\"\"\"\n",
    "\n",
    "    def __init__(self, in_channels, out_channels, mid_channels=None):\n",
    "        super().__init__()\n",
    "        if not mid_channels:\n",
    "            mid_channels = out_channels\n",
    "        self.double_conv = nn.Sequential(\n",
    "            nn.Conv2d(in_channels, mid_channels, kernel_size=3, padding=1, bias=False),\n",
    "            nn.BatchNorm2d(mid_channels),\n",
    "            nn.ReLU(inplace=True),\n",
    "            nn.Conv2d(mid_channels, out_channels, kernel_size=3, padding=1, bias=False),\n",
    "            nn.BatchNorm2d(out_channels),\n",
    "            nn.ReLU(inplace=True)\n",
    "        )\n",
    "\n",
    "    def forward(self, x):\n",
    "        return self.double_conv(x)\n",
    "\n",
    "\n",
    "class Down(nn.Module):\n",
    "    \"\"\"Downscaling with maxpool then double conv\"\"\"\n",
    "\n",
    "    def __init__(self, in_channels, out_channels):\n",
    "        super().__init__()\n",
    "        self.maxpool_conv = nn.Sequential(\n",
    "            nn.MaxPool2d(2),\n",
    "            DoubleConv(in_channels, out_channels)\n",
    "        )\n",
    "\n",
    "    def forward(self, x):\n",
    "        return self.maxpool_conv(x)\n",
    "\n",
    "\n",
    "class Up(nn.Module):\n",
    "    \"\"\"Upscaling then double conv\"\"\"\n",
    "\n",
    "    def __init__(self, in_channels, out_channels, bilinear=True):\n",
    "        super().__init__()\n",
    "\n",
    "        # if bilinear, use the normal convolutions to reduce the number of channels\n",
    "        if bilinear:\n",
    "            self.up = nn.Upsample(scale_factor=2, mode='bilinear', align_corners=True)\n",
    "            self.conv = DoubleConv(in_channels, out_channels, in_channels // 2)\n",
    "        else:\n",
    "            self.up = nn.ConvTranspose2d(in_channels, in_channels // 2, kernel_size=2, stride=2)\n",
    "            self.conv = DoubleConv(in_channels, out_channels)\n",
    "\n",
    "    def forward(self, x1, x2):\n",
    "        x1 = self.up(x1)\n",
    "        # input is CHW\n",
    "        diffY = x2.size()[2] - x1.size()[2]\n",
    "        diffX = x2.size()[3] - x1.size()[3]\n",
    "\n",
    "        x1 = F.pad(x1, [diffX // 2, diffX - diffX // 2,\n",
    "                        diffY // 2, diffY - diffY // 2])\n",
    "        # if you have padding issues, see\n",
    "        # https://github.com/HaiyongJiang/U-Net-Pytorch-Unstructured-Buggy/commit/0e854509c2cea854e247a9c615f175f76fbb2e3a\n",
    "        # https://github.com/xiaopeng-liao/Pytorch-UNet/commit/8ebac70e633bac59fc22bb5195e513d5832fb3bd\n",
    "        x = torch.cat([x2, x1], dim=1)\n",
    "        return self.conv(x)\n",
    "\n",
    "\n",
    "class OutConv(nn.Module):\n",
    "    def __init__(self, in_channels, out_channels):\n",
    "        super(OutConv, self).__init__()\n",
    "        self.conv = nn.Conv2d(in_channels, out_channels, kernel_size=1)\n",
    "\n",
    "    def forward(self, x):\n",
    "        return self.conv(x)"
   ]
  },
  {
   "cell_type": "code",
   "execution_count": 86,
   "id": "e317372c",
   "metadata": {},
   "outputs": [],
   "source": [
    "\"\"\" Full assembly of the parts to form the complete network \"\"\"\n",
    "\n",
    "class UNet(nn.Module):\n",
    "    def __init__(self, n_channels, n_classes, bilinear=False):\n",
    "        super(UNet, self).__init__()\n",
    "        self.n_channels = n_channels\n",
    "        self.n_classes = n_classes\n",
    "        self.bilinear = bilinear\n",
    "\n",
    "        self.inc = DoubleConv(n_channels, 16)\n",
    "        self.down1 = Down(16, 32)\n",
    "        self.down2 = Down(32, 64)\n",
    "        self.down3 = Down(64, 128)\n",
    "        self.down4 = Down(128, 256)\n",
    "        self.down5 = Down(256, 512)       \n",
    "        factor = 2 if bilinear else 1\n",
    "        self.down6 = Down(512, 1024 // factor)\n",
    "        self.up1 = Up(1024, 512 // factor, bilinear)\n",
    "        self.up2 = Up(512, 256 // factor, bilinear)\n",
    "        self.up3 = Up(256, 128 // factor, bilinear)\n",
    "        self.up4 = Up(128, 64, bilinear)\n",
    "        self.up5 = Up(64, 32, bilinear)\n",
    "        self.up6 = Up(32, 16, bilinear)\n",
    "        \n",
    "        self.outc = OutConv(16, n_classes) #initial size ! (MLP here )\n",
    "        ## Note : the last step == fully connected NN (MLP) || could be repplace by a Random forest methods ! (try)\n",
    "\n",
    "    def forward(self, x):\n",
    "        x1 = self.inc(x)\n",
    "        x2 = self.down1(x1)\n",
    "        x3 = self.down2(x2)\n",
    "        x4 = self.down3(x3)\n",
    "        x5 = self.down4(x4)\n",
    "        x6 = self.down5(x5)\n",
    "        x7 = self.down6(x6)\n",
    "        \n",
    "        x = self.up1(x7, x6)\n",
    "        x = self.up2(x, x5)\n",
    "        x = self.up3(x, x4)\n",
    "        x = self.up4(x, x3)\n",
    "        x = self.up5(x, x2)\n",
    "        x = self.up6(x, x1)\n",
    "        \n",
    "        logits = self.outc(x)\n",
    "        return logits"
   ]
  },
  {
   "cell_type": "markdown",
   "id": "67d5bac7",
   "metadata": {},
   "source": [
    "## Getloader"
   ]
  },
  {
   "cell_type": "code",
   "execution_count": 304,
   "id": "6f49249e",
   "metadata": {},
   "outputs": [],
   "source": [
    "def get_dataloaders(split):\n",
    "    \n",
    "    \n",
    "    data_dataset = Alpine(transforms=transforms_train, split=split)\n",
    "    shuffle = True\n",
    "    if split == \"test\":\n",
    "        shuffle = False\n",
    "    # data loader\n",
    "    data_loader = DataLoader(data_dataset, \n",
    "                              batch_size  = 2, \n",
    "                              shuffle     = shuffle, \n",
    "                              num_workers = 1,\n",
    "                              pin_memory  = False)\n",
    "    return data_dataset, data_loader"
   ]
  },
  {
   "cell_type": "code",
   "execution_count": 305,
   "id": "9df83458",
   "metadata": {},
   "outputs": [
    {
     "name": "stdout",
     "output_type": "stream",
     "text": [
      "736\n"
     ]
    },
    {
     "data": {
      "text/plain": [
       "368"
      ]
     },
     "execution_count": 305,
     "metadata": {},
     "output_type": "execute_result"
    }
   ],
   "source": [
    " train_loader = get_dataloaders(\"train\")[1]\n",
    "len(train_loader)"
   ]
  },
  {
   "cell_type": "code",
   "execution_count": 306,
   "id": "4aa389a6",
   "metadata": {},
   "outputs": [],
   "source": [
    "\n",
    "def train_epoch(model, optimizer, scheduler, criterion, train_loader, epoch, device):\n",
    "    ### SOLUTION\n",
    "    model.train()\n",
    "    loss_history = []\n",
    "    accuracy_history = []\n",
    "    lr_history = []\n",
    "    for batch_idx, (data, target) in enumerate(train_loader):\n",
    "        target = target.type(torch.LongTensor) #avoid an error idk why?\n",
    "        data, target = data.to(device), target.to(device)\n",
    "        optimizer.zero_grad()\n",
    "        output = model(data)\n",
    "        #print(output.shape) #[batch,class,200,200]\n",
    "        #print(target.shape)#[batch,1,200,200]\n",
    "        output = output.permute(1,0,2,3).flatten(1).permute(1,0) #[batch*200*200,class]\n",
    "        #output = output.flatten(2) #[batch,class,200*200]\n",
    "        target = target.flatten() #[batch*200*200]\n",
    "        #target = target.flatten(-3) #[batch,200*200] expected for criterion argument (class per pixel)\n",
    "\n",
    "        loss = criterion(output, target)\n",
    "        loss.backward()\n",
    "        optimizer.step()\n",
    "        scheduler.step()\n",
    "        \n",
    "        predictions = output.argmax(1).cpu().detach().numpy()\n",
    "        ground_truth = target.cpu().detach().numpy()\n",
    "        #correct = pred.eq(target.view_as(pred)).sum().item()\n",
    "        #ccuracy_float = correct / len(output[0])\n",
    "        \n",
    "        accuracy_float = (predictions == ground_truth).mean()\n",
    "        loss_float = loss.item()\n",
    "\n",
    "        loss_history.append(loss_float)\n",
    "        accuracy_history.append(accuracy_float)\n",
    "        lr_history.append(scheduler.get_last_lr()[0])\n",
    "        if batch_idx % (len(train_loader.dataset) // len(data) // 10) == 0:\n",
    "            print(\n",
    "                f\"Train Epoch: {epoch}-{batch_idx:03d} \"\n",
    "                f\"batch_loss={loss_float:0.2e} \"\n",
    "                f\"batch_acc={accuracy_float:0.3f} \"\n",
    "                f\"lr={scheduler.get_last_lr()[0]:0.3e} \"\n",
    "            )\n",
    "\n",
    "    return loss_history, accuracy_history, lr_history\n",
    "\n",
    "\n",
    "@torch.no_grad()\n",
    "def validate(model, device, val_loader, criterion):\n",
    "    model.eval()  # Important: eval mode (affects dropout, batch norm etc)\n",
    "    test_loss = 0\n",
    "    accuracy_float = 0 \n",
    "    for data, target in val_loader:\n",
    "        target = target.type(torch.LongTensor) #avoid an error idk why?\n",
    "        data, target = data.to(device), target.to(device)\n",
    "        output = model(data)\n",
    "        #print(output.shape) #[batch,class,200,200]\n",
    "        #print(target.shape)#[batch,1,200,200]\n",
    "        output = output.permute(1,0,2,3).flatten(1).permute(1,0) #[batch*200*200,class]\n",
    "        #output = output.flatten(2) #[batch,class,200*200]\n",
    "        target = target.flatten() #[batch*200*200]\n",
    "        #target = target.flatten(-3) #[batch,200*200] expected for criterion argument (class per pixel)\n",
    "        \n",
    "        test_loss += criterion(output, target)\n",
    "        \n",
    "        predictions = output.argmax(1).cpu().detach().numpy()\n",
    "        ground_truth = target.cpu().detach().numpy()\n",
    "        \n",
    "        accuracy_float += (predictions == ground_truth).mean()\n",
    "\n",
    "    test_loss /= len(val_loader)\n",
    "\n",
    "    print(\n",
    "        \"Val set: Average loss: {:.4f}, Accuracy: {}/{} ({:.0f}%)\".format(\n",
    "            test_loss,\n",
    "            accuracy_float,\n",
    "            len(val_loader),\n",
    "            100.0 * accuracy_float / len(val_loader),\n",
    "        )\n",
    "    )\n",
    "    return test_loss, accuracy_float / len(val_loader)\n",
    "\n",
    "\n",
    "def run_training(\n",
    "    model_factory,\n",
    "    num_epochs,\n",
    "    optimizer_kwargs,\n",
    "    device=\"cuda\",\n",
    "):\n",
    "    # ===== Data Loading =====\n",
    "    train_loader = get_dataloaders(\"train\")[1]\n",
    "    val_loader = get_dataloaders(\"val\")[1]\n",
    "\n",
    "    # ===== Model, Optimizer and Criterion =====\n",
    "    model = UNet(3,8)\n",
    "    model = model.to(device=device)\n",
    "    optimizer = torch.optim.AdamW(model.parameters(), **optimizer_kwargs)\n",
    "    criterion = torch.nn.functional.cross_entropy\n",
    "    scheduler = torch.optim.lr_scheduler.CosineAnnealingLR(\n",
    "        optimizer,\n",
    "        T_max=(len(train_loader.dataset) * num_epochs) // train_loader.batch_size,\n",
    "    )\n",
    "\n",
    "    # ===== Train Model =====\n",
    "    lr_history = []\n",
    "    train_loss_history = []\n",
    "    train_acc_history = []\n",
    "    val_loss_history = []\n",
    "    val_acc_history = []\n",
    "    for epoch in range(1, num_epochs + 1):\n",
    "        train_loss, train_acc, lrs = train_epoch(\n",
    "            model, optimizer, scheduler, criterion, train_loader, epoch, device\n",
    "        )\n",
    "        train_loss_history.extend(train_loss)\n",
    "        train_acc_history.extend(train_acc)\n",
    "        lr_history.extend(lrs)\n",
    "\n",
    "        val_loss, val_acc = validate(model, device, val_loader, criterion)\n",
    "        val_loss_history.append(val_loss)\n",
    "        val_acc_history.append(val_acc)\n",
    "    \n",
    "    #test part\n",
    "    \n",
    "    return (sum(train_acc) / len(train_acc), val_acc, model)\n",
    "\n",
    "\n",
    "\n"
   ]
  },
  {
   "cell_type": "code",
   "execution_count": 307,
   "id": "6407b0e1",
   "metadata": {},
   "outputs": [
    {
     "data": {
      "text/plain": [
       "' IF curve .. (not working)\\n    # ===== Plot training curves =====\\n    n_train = len(train_acc_history)\\n    t_train = num_epochs * np.arange(n_train) / n_train\\n    t_val = np.arange(1, num_epochs + 1)\\n\\n    plt.figure(figsize=(6.4 * 3, 4.8))\\n    plt.subplot(1, 3, 1)\\n    plt.plot(t_train, train_acc_history, label=\"Train\")\\n    plt.plot(t_val, val_acc_history, label=\"Val\")\\n    plt.legend()\\n    plt.xlabel(\"Epoch\")\\n    plt.ylabel(\"Accuracy\")\\n\\n    plt.subplot(1, 3, 2)\\n    plt.plot(t_train, train_loss_history, label=\"Train\")\\n    plt.plot(t_val, val_loss_history, label=\"Val\")\\n    plt.legend()\\n    plt.xlabel(\"Epoch\")\\n    plt.ylabel(\"Loss\")\\n\\n    plt.subplot(1, 3, 3)\\n    plt.plot(t_train, lr_history)\\n    plt.xlabel(\"Epoch\")\\n    plt.ylabel(\"Learning Rate\")\\n'"
      ]
     },
     "execution_count": 307,
     "metadata": {},
     "output_type": "execute_result"
    }
   ],
   "source": [
    "\"\"\" IF curve .. (not working)\n",
    "    # ===== Plot training curves =====\n",
    "    n_train = len(train_acc_history)\n",
    "    t_train = num_epochs * np.arange(n_train) / n_train\n",
    "    t_val = np.arange(1, num_epochs + 1)\n",
    "\n",
    "    plt.figure(figsize=(6.4 * 3, 4.8))\n",
    "    plt.subplot(1, 3, 1)\n",
    "    plt.plot(t_train, train_acc_history, label=\"Train\")\n",
    "    plt.plot(t_val, val_acc_history, label=\"Val\")\n",
    "    plt.legend()\n",
    "    plt.xlabel(\"Epoch\")\n",
    "    plt.ylabel(\"Accuracy\")\n",
    "\n",
    "    plt.subplot(1, 3, 2)\n",
    "    plt.plot(t_train, train_loss_history, label=\"Train\")\n",
    "    plt.plot(t_val, val_loss_history, label=\"Val\")\n",
    "    plt.legend()\n",
    "    plt.xlabel(\"Epoch\")\n",
    "    plt.ylabel(\"Loss\")\n",
    "\n",
    "    plt.subplot(1, 3, 3)\n",
    "    plt.plot(t_train, lr_history)\n",
    "    plt.xlabel(\"Epoch\")\n",
    "    plt.ylabel(\"Learning Rate\")\n",
    "\"\"\""
   ]
  },
  {
   "cell_type": "code",
   "execution_count": 308,
   "id": "c18e8c2c",
   "metadata": {},
   "outputs": [
    {
     "name": "stdout",
     "output_type": "stream",
     "text": [
      "736\n",
      "123\n",
      "Train Epoch: 1-000 batch_loss=1.96e+00 batch_acc=0.212 lr=1.000e-03 \n",
      "Train Epoch: 1-036 batch_loss=1.86e+00 batch_acc=0.297 lr=9.998e-04 \n",
      "Train Epoch: 1-072 batch_loss=1.69e+00 batch_acc=0.211 lr=9.990e-04 \n",
      "Train Epoch: 1-108 batch_loss=1.80e+00 batch_acc=0.087 lr=9.978e-04 \n",
      "Train Epoch: 1-144 batch_loss=1.98e+00 batch_acc=0.134 lr=9.962e-04 \n",
      "Train Epoch: 1-180 batch_loss=1.71e+00 batch_acc=0.345 lr=9.940e-04 \n",
      "Train Epoch: 1-216 batch_loss=1.32e+00 batch_acc=0.355 lr=9.914e-04 \n",
      "Train Epoch: 1-252 batch_loss=9.52e-01 batch_acc=0.727 lr=9.884e-04 \n",
      "Train Epoch: 1-288 batch_loss=1.01e+00 batch_acc=0.617 lr=9.849e-04 \n",
      "Train Epoch: 1-324 batch_loss=1.08e+00 batch_acc=0.486 lr=9.809e-04 \n",
      "Train Epoch: 1-360 batch_loss=1.31e+00 batch_acc=0.350 lr=9.764e-04 \n",
      "Val set: Average loss: 1.2921, Accuracy: 35.725899999999996/62 (58%)\n",
      "Train Epoch: 2-000 batch_loss=2.06e+00 batch_acc=0.262 lr=9.754e-04 \n",
      "Train Epoch: 2-036 batch_loss=1.29e+00 batch_acc=0.303 lr=9.704e-04 \n",
      "Train Epoch: 2-072 batch_loss=8.78e-01 batch_acc=0.781 lr=9.650e-04 \n",
      "Train Epoch: 2-108 batch_loss=1.15e+00 batch_acc=0.533 lr=9.591e-04 \n",
      "Train Epoch: 2-144 batch_loss=2.07e+00 batch_acc=0.067 lr=9.528e-04 \n",
      "Train Epoch: 2-180 batch_loss=2.48e+00 batch_acc=0.083 lr=9.461e-04 \n",
      "Train Epoch: 2-216 batch_loss=1.25e+00 batch_acc=0.581 lr=9.389e-04 \n",
      "Train Epoch: 2-252 batch_loss=1.27e+00 batch_acc=0.387 lr=9.314e-04 \n",
      "Train Epoch: 2-288 batch_loss=1.33e+00 batch_acc=0.454 lr=9.234e-04 \n",
      "Train Epoch: 2-324 batch_loss=1.23e+00 batch_acc=0.471 lr=9.150e-04 \n",
      "Train Epoch: 2-360 batch_loss=9.59e-01 batch_acc=0.726 lr=9.063e-04 \n",
      "Val set: Average loss: 1.2463, Accuracy: 39.171425000000006/62 (63%)\n",
      "Train Epoch: 3-000 batch_loss=8.71e-01 batch_acc=0.683 lr=9.043e-04 \n",
      "Train Epoch: 3-036 batch_loss=1.49e+00 batch_acc=0.405 lr=8.950e-04 \n",
      "Train Epoch: 3-072 batch_loss=1.23e+00 batch_acc=0.273 lr=8.854e-04 \n",
      "Train Epoch: 3-108 batch_loss=9.04e-01 batch_acc=0.739 lr=8.755e-04 \n",
      "Train Epoch: 3-144 batch_loss=1.17e+00 batch_acc=0.508 lr=8.651e-04 \n",
      "Train Epoch: 3-180 batch_loss=8.21e-01 batch_acc=0.751 lr=8.545e-04 \n",
      "Train Epoch: 3-216 batch_loss=8.42e-01 batch_acc=0.652 lr=8.435e-04 \n",
      "Train Epoch: 3-252 batch_loss=9.62e-01 batch_acc=0.563 lr=8.321e-04 \n",
      "Train Epoch: 3-288 batch_loss=1.02e+00 batch_acc=0.624 lr=8.205e-04 \n",
      "Train Epoch: 3-324 batch_loss=1.35e+00 batch_acc=0.394 lr=8.085e-04 \n",
      "Train Epoch: 3-360 batch_loss=1.36e+00 batch_acc=0.334 lr=7.963e-04 \n",
      "Val set: Average loss: 1.3256, Accuracy: 39.9315375/62 (64%)\n",
      "Train Epoch: 4-000 batch_loss=8.26e-01 batch_acc=0.833 lr=7.935e-04 \n",
      "Train Epoch: 4-036 batch_loss=7.76e-01 batch_acc=0.663 lr=7.810e-04 \n",
      "Train Epoch: 4-072 batch_loss=1.49e+00 batch_acc=0.362 lr=7.681e-04 \n",
      "Train Epoch: 4-108 batch_loss=9.51e-01 batch_acc=0.703 lr=7.550e-04 \n",
      "Train Epoch: 4-144 batch_loss=8.24e-01 batch_acc=0.724 lr=7.417e-04 \n",
      "Train Epoch: 4-180 batch_loss=8.11e-01 batch_acc=0.715 lr=7.281e-04 \n",
      "Train Epoch: 4-216 batch_loss=7.39e-01 batch_acc=0.756 lr=7.144e-04 \n",
      "Train Epoch: 4-252 batch_loss=9.72e-01 batch_acc=0.431 lr=7.004e-04 \n",
      "Train Epoch: 4-288 batch_loss=1.57e+00 batch_acc=0.406 lr=6.862e-04 \n",
      "Train Epoch: 4-324 batch_loss=1.00e+00 batch_acc=0.436 lr=6.719e-04 \n",
      "Train Epoch: 4-360 batch_loss=9.63e-01 batch_acc=0.675 lr=6.573e-04 \n",
      "Val set: Average loss: 1.2185, Accuracy: 40.067312499999986/62 (65%)\n",
      "Train Epoch: 5-000 batch_loss=7.34e-01 batch_acc=0.755 lr=6.541e-04 \n",
      "Train Epoch: 5-036 batch_loss=1.75e+00 batch_acc=0.448 lr=6.394e-04 \n",
      "Train Epoch: 5-072 batch_loss=1.07e+00 batch_acc=0.656 lr=6.246e-04 \n",
      "Train Epoch: 5-108 batch_loss=8.36e-01 batch_acc=0.705 lr=6.097e-04 \n",
      "Train Epoch: 5-144 batch_loss=1.16e+00 batch_acc=0.661 lr=5.946e-04 \n",
      "Train Epoch: 5-180 batch_loss=1.27e+00 batch_acc=0.434 lr=5.795e-04 \n",
      "Train Epoch: 5-216 batch_loss=8.42e-01 batch_acc=0.687 lr=5.643e-04 \n",
      "Train Epoch: 5-252 batch_loss=9.22e-01 batch_acc=0.500 lr=5.490e-04 \n",
      "Train Epoch: 5-288 batch_loss=9.32e-01 batch_acc=0.702 lr=5.337e-04 \n",
      "Train Epoch: 5-324 batch_loss=8.96e-01 batch_acc=0.652 lr=5.184e-04 \n",
      "Train Epoch: 5-360 batch_loss=8.98e-01 batch_acc=0.562 lr=5.030e-04 \n",
      "Val set: Average loss: 1.2315, Accuracy: 36.78342500000001/62 (59%)\n",
      "Train Epoch: 6-000 batch_loss=7.86e-01 batch_acc=0.754 lr=4.996e-04 \n",
      "Train Epoch: 6-036 batch_loss=7.32e-01 batch_acc=0.721 lr=4.842e-04 \n",
      "Train Epoch: 6-072 batch_loss=8.44e-01 batch_acc=0.497 lr=4.689e-04 \n",
      "Train Epoch: 6-108 batch_loss=6.13e-01 batch_acc=0.973 lr=4.535e-04 \n",
      "Train Epoch: 6-144 batch_loss=8.25e-01 batch_acc=0.767 lr=4.383e-04 \n",
      "Train Epoch: 6-180 batch_loss=1.51e+00 batch_acc=0.498 lr=4.230e-04 \n",
      "Train Epoch: 6-216 batch_loss=8.86e-01 batch_acc=0.534 lr=4.079e-04 \n",
      "Train Epoch: 6-252 batch_loss=9.30e-01 batch_acc=0.628 lr=3.928e-04 \n",
      "Train Epoch: 6-288 batch_loss=8.61e-01 batch_acc=0.630 lr=3.779e-04 \n",
      "Train Epoch: 6-324 batch_loss=1.20e+00 batch_acc=0.605 lr=3.630e-04 \n",
      "Train Epoch: 6-360 batch_loss=9.68e-01 batch_acc=0.729 lr=3.483e-04 \n",
      "Val set: Average loss: 1.2083, Accuracy: 43.297337500000005/62 (70%)\n",
      "Train Epoch: 7-000 batch_loss=9.51e-01 batch_acc=0.572 lr=3.451e-04 \n",
      "Train Epoch: 7-036 batch_loss=9.12e-01 batch_acc=0.794 lr=3.306e-04 \n",
      "Train Epoch: 7-072 batch_loss=6.26e-01 batch_acc=0.792 lr=3.162e-04 \n",
      "Train Epoch: 7-108 batch_loss=1.10e+00 batch_acc=0.656 lr=3.020e-04 \n",
      "Train Epoch: 7-144 batch_loss=6.57e-01 batch_acc=0.885 lr=2.880e-04 \n",
      "Train Epoch: 7-180 batch_loss=8.36e-01 batch_acc=0.705 lr=2.741e-04 \n",
      "Train Epoch: 7-216 batch_loss=8.17e-01 batch_acc=0.792 lr=2.605e-04 \n",
      "Train Epoch: 7-252 batch_loss=8.36e-01 batch_acc=0.693 lr=2.472e-04 \n",
      "Train Epoch: 7-288 batch_loss=1.10e+00 batch_acc=0.478 lr=2.340e-04 \n",
      "Train Epoch: 7-324 batch_loss=1.57e+00 batch_acc=0.226 lr=2.212e-04 \n",
      "Train Epoch: 7-360 batch_loss=7.29e-01 batch_acc=0.709 lr=2.085e-04 \n",
      "Val set: Average loss: 1.2700, Accuracy: 42.44512499999999/62 (68%)\n",
      "Train Epoch: 8-000 batch_loss=9.17e-01 batch_acc=0.551 lr=2.058e-04 \n",
      "Train Epoch: 8-036 batch_loss=8.31e-01 batch_acc=0.715 lr=1.935e-04 \n",
      "Train Epoch: 8-072 batch_loss=1.69e+00 batch_acc=0.384 lr=1.815e-04 \n",
      "Train Epoch: 8-108 batch_loss=8.07e-01 batch_acc=0.777 lr=1.698e-04 \n",
      "Train Epoch: 8-144 batch_loss=6.27e-01 batch_acc=0.726 lr=1.584e-04 \n",
      "Train Epoch: 8-180 batch_loss=1.06e+00 batch_acc=0.556 lr=1.474e-04 \n",
      "Train Epoch: 8-216 batch_loss=7.23e-01 batch_acc=0.713 lr=1.366e-04 \n",
      "Train Epoch: 8-252 batch_loss=7.69e-01 batch_acc=0.663 lr=1.262e-04 \n",
      "Train Epoch: 8-288 batch_loss=9.12e-01 batch_acc=0.534 lr=1.162e-04 \n",
      "Train Epoch: 8-324 batch_loss=1.04e+00 batch_acc=0.552 lr=1.066e-04 \n",
      "Train Epoch: 8-360 batch_loss=9.17e-01 batch_acc=0.720 lr=9.725e-05 \n",
      "Val set: Average loss: 1.1868, Accuracy: 42.827374999999996/62 (69%)\n",
      "Train Epoch: 9-000 batch_loss=9.08e-01 batch_acc=0.723 lr=9.524e-05 \n",
      "Train Epoch: 9-036 batch_loss=6.00e-01 batch_acc=0.879 lr=8.641e-05 \n",
      "Train Epoch: 9-072 batch_loss=1.15e+00 batch_acc=0.462 lr=7.797e-05 \n",
      "Train Epoch: 9-108 batch_loss=1.14e+00 batch_acc=0.441 lr=6.993e-05 \n",
      "Train Epoch: 9-144 batch_loss=1.01e+00 batch_acc=0.723 lr=6.230e-05 \n",
      "Train Epoch: 9-180 batch_loss=1.47e+00 batch_acc=0.469 lr=5.508e-05 \n",
      "Train Epoch: 9-216 batch_loss=7.89e-01 batch_acc=0.721 lr=4.828e-05 \n",
      "Train Epoch: 9-252 batch_loss=8.15e-01 batch_acc=0.686 lr=4.191e-05 \n",
      "Train Epoch: 9-288 batch_loss=8.32e-01 batch_acc=0.737 lr=3.597e-05 \n",
      "Train Epoch: 9-324 batch_loss=7.31e-01 batch_acc=0.849 lr=3.046e-05 \n",
      "Train Epoch: 9-360 batch_loss=1.30e+00 batch_acc=0.526 lr=2.540e-05 \n",
      "Val set: Average loss: 1.2164, Accuracy: 43.12212499999999/62 (70%)\n",
      "Train Epoch: 10-000 batch_loss=7.43e-01 batch_acc=0.787 lr=2.434e-05 \n",
      "Train Epoch: 10-036 batch_loss=1.20e+00 batch_acc=0.452 lr=1.983e-05 \n",
      "Train Epoch: 10-072 batch_loss=6.19e-01 batch_acc=0.878 lr=1.577e-05 \n",
      "Train Epoch: 10-108 batch_loss=8.49e-01 batch_acc=0.611 lr=1.217e-05 \n",
      "Train Epoch: 10-144 batch_loss=1.34e+00 batch_acc=0.655 lr=9.033e-06 \n",
      "Train Epoch: 10-180 batch_loss=5.01e-01 batch_acc=0.950 lr=6.358e-06 \n",
      "Train Epoch: 10-216 batch_loss=7.64e-01 batch_acc=0.760 lr=4.149e-06 \n",
      "Train Epoch: 10-252 batch_loss=1.74e+00 batch_acc=0.085 lr=2.408e-06 \n",
      "Train Epoch: 10-288 batch_loss=9.05e-01 batch_acc=0.622 lr=1.137e-06 \n",
      "Train Epoch: 10-324 batch_loss=8.64e-01 batch_acc=0.492 lr=3.368e-07 \n",
      "Train Epoch: 10-360 batch_loss=9.03e-01 batch_acc=0.537 lr=8.928e-09 \n",
      "Val set: Average loss: 1.3082, Accuracy: 40.322812500000005/62 (65%)\n"
     ]
    }
   ],
   "source": [
    "torch.cuda.empty_cache()\n",
    "image_size = 400\n",
    "model_factory = UNet\n",
    "num_epochs = 10\n",
    "device = torch.device(\"cuda\" if torch.cuda.is_available() else \"cpu\")\n",
    "\n",
    "optimizer_kwargs = dict(\n",
    "    lr=1e-3,\n",
    "    weight_decay=1e-2,\n",
    ")\n",
    "\n",
    "train_acc,val_acc,model = run_training(\n",
    "    model_factory=UNet,\n",
    "    num_epochs=num_epochs,\n",
    "    optimizer_kwargs=optimizer_kwargs,\n",
    "    device=device,\n",
    ")"
   ]
  },
  {
   "cell_type": "markdown",
   "id": "8ea2ea05",
   "metadata": {},
   "source": [
    "## Testing the  model"
   ]
  },
  {
   "cell_type": "code",
   "execution_count": 309,
   "id": "6fd8a345",
   "metadata": {},
   "outputs": [
    {
     "data": {
      "text/plain": [
       "UNet(\n",
       "  (inc): DoubleConv(\n",
       "    (double_conv): Sequential(\n",
       "      (0): Conv2d(3, 16, kernel_size=(3, 3), stride=(1, 1), padding=(1, 1), bias=False)\n",
       "      (1): BatchNorm2d(16, eps=1e-05, momentum=0.1, affine=True, track_running_stats=True)\n",
       "      (2): ReLU(inplace=True)\n",
       "      (3): Conv2d(16, 16, kernel_size=(3, 3), stride=(1, 1), padding=(1, 1), bias=False)\n",
       "      (4): BatchNorm2d(16, eps=1e-05, momentum=0.1, affine=True, track_running_stats=True)\n",
       "      (5): ReLU(inplace=True)\n",
       "    )\n",
       "  )\n",
       "  (down1): Down(\n",
       "    (maxpool_conv): Sequential(\n",
       "      (0): MaxPool2d(kernel_size=2, stride=2, padding=0, dilation=1, ceil_mode=False)\n",
       "      (1): DoubleConv(\n",
       "        (double_conv): Sequential(\n",
       "          (0): Conv2d(16, 32, kernel_size=(3, 3), stride=(1, 1), padding=(1, 1), bias=False)\n",
       "          (1): BatchNorm2d(32, eps=1e-05, momentum=0.1, affine=True, track_running_stats=True)\n",
       "          (2): ReLU(inplace=True)\n",
       "          (3): Conv2d(32, 32, kernel_size=(3, 3), stride=(1, 1), padding=(1, 1), bias=False)\n",
       "          (4): BatchNorm2d(32, eps=1e-05, momentum=0.1, affine=True, track_running_stats=True)\n",
       "          (5): ReLU(inplace=True)\n",
       "        )\n",
       "      )\n",
       "    )\n",
       "  )\n",
       "  (down2): Down(\n",
       "    (maxpool_conv): Sequential(\n",
       "      (0): MaxPool2d(kernel_size=2, stride=2, padding=0, dilation=1, ceil_mode=False)\n",
       "      (1): DoubleConv(\n",
       "        (double_conv): Sequential(\n",
       "          (0): Conv2d(32, 64, kernel_size=(3, 3), stride=(1, 1), padding=(1, 1), bias=False)\n",
       "          (1): BatchNorm2d(64, eps=1e-05, momentum=0.1, affine=True, track_running_stats=True)\n",
       "          (2): ReLU(inplace=True)\n",
       "          (3): Conv2d(64, 64, kernel_size=(3, 3), stride=(1, 1), padding=(1, 1), bias=False)\n",
       "          (4): BatchNorm2d(64, eps=1e-05, momentum=0.1, affine=True, track_running_stats=True)\n",
       "          (5): ReLU(inplace=True)\n",
       "        )\n",
       "      )\n",
       "    )\n",
       "  )\n",
       "  (down3): Down(\n",
       "    (maxpool_conv): Sequential(\n",
       "      (0): MaxPool2d(kernel_size=2, stride=2, padding=0, dilation=1, ceil_mode=False)\n",
       "      (1): DoubleConv(\n",
       "        (double_conv): Sequential(\n",
       "          (0): Conv2d(64, 128, kernel_size=(3, 3), stride=(1, 1), padding=(1, 1), bias=False)\n",
       "          (1): BatchNorm2d(128, eps=1e-05, momentum=0.1, affine=True, track_running_stats=True)\n",
       "          (2): ReLU(inplace=True)\n",
       "          (3): Conv2d(128, 128, kernel_size=(3, 3), stride=(1, 1), padding=(1, 1), bias=False)\n",
       "          (4): BatchNorm2d(128, eps=1e-05, momentum=0.1, affine=True, track_running_stats=True)\n",
       "          (5): ReLU(inplace=True)\n",
       "        )\n",
       "      )\n",
       "    )\n",
       "  )\n",
       "  (down4): Down(\n",
       "    (maxpool_conv): Sequential(\n",
       "      (0): MaxPool2d(kernel_size=2, stride=2, padding=0, dilation=1, ceil_mode=False)\n",
       "      (1): DoubleConv(\n",
       "        (double_conv): Sequential(\n",
       "          (0): Conv2d(128, 256, kernel_size=(3, 3), stride=(1, 1), padding=(1, 1), bias=False)\n",
       "          (1): BatchNorm2d(256, eps=1e-05, momentum=0.1, affine=True, track_running_stats=True)\n",
       "          (2): ReLU(inplace=True)\n",
       "          (3): Conv2d(256, 256, kernel_size=(3, 3), stride=(1, 1), padding=(1, 1), bias=False)\n",
       "          (4): BatchNorm2d(256, eps=1e-05, momentum=0.1, affine=True, track_running_stats=True)\n",
       "          (5): ReLU(inplace=True)\n",
       "        )\n",
       "      )\n",
       "    )\n",
       "  )\n",
       "  (down5): Down(\n",
       "    (maxpool_conv): Sequential(\n",
       "      (0): MaxPool2d(kernel_size=2, stride=2, padding=0, dilation=1, ceil_mode=False)\n",
       "      (1): DoubleConv(\n",
       "        (double_conv): Sequential(\n",
       "          (0): Conv2d(256, 512, kernel_size=(3, 3), stride=(1, 1), padding=(1, 1), bias=False)\n",
       "          (1): BatchNorm2d(512, eps=1e-05, momentum=0.1, affine=True, track_running_stats=True)\n",
       "          (2): ReLU(inplace=True)\n",
       "          (3): Conv2d(512, 512, kernel_size=(3, 3), stride=(1, 1), padding=(1, 1), bias=False)\n",
       "          (4): BatchNorm2d(512, eps=1e-05, momentum=0.1, affine=True, track_running_stats=True)\n",
       "          (5): ReLU(inplace=True)\n",
       "        )\n",
       "      )\n",
       "    )\n",
       "  )\n",
       "  (down6): Down(\n",
       "    (maxpool_conv): Sequential(\n",
       "      (0): MaxPool2d(kernel_size=2, stride=2, padding=0, dilation=1, ceil_mode=False)\n",
       "      (1): DoubleConv(\n",
       "        (double_conv): Sequential(\n",
       "          (0): Conv2d(512, 1024, kernel_size=(3, 3), stride=(1, 1), padding=(1, 1), bias=False)\n",
       "          (1): BatchNorm2d(1024, eps=1e-05, momentum=0.1, affine=True, track_running_stats=True)\n",
       "          (2): ReLU(inplace=True)\n",
       "          (3): Conv2d(1024, 1024, kernel_size=(3, 3), stride=(1, 1), padding=(1, 1), bias=False)\n",
       "          (4): BatchNorm2d(1024, eps=1e-05, momentum=0.1, affine=True, track_running_stats=True)\n",
       "          (5): ReLU(inplace=True)\n",
       "        )\n",
       "      )\n",
       "    )\n",
       "  )\n",
       "  (up1): Up(\n",
       "    (up): ConvTranspose2d(1024, 512, kernel_size=(2, 2), stride=(2, 2))\n",
       "    (conv): DoubleConv(\n",
       "      (double_conv): Sequential(\n",
       "        (0): Conv2d(1024, 512, kernel_size=(3, 3), stride=(1, 1), padding=(1, 1), bias=False)\n",
       "        (1): BatchNorm2d(512, eps=1e-05, momentum=0.1, affine=True, track_running_stats=True)\n",
       "        (2): ReLU(inplace=True)\n",
       "        (3): Conv2d(512, 512, kernel_size=(3, 3), stride=(1, 1), padding=(1, 1), bias=False)\n",
       "        (4): BatchNorm2d(512, eps=1e-05, momentum=0.1, affine=True, track_running_stats=True)\n",
       "        (5): ReLU(inplace=True)\n",
       "      )\n",
       "    )\n",
       "  )\n",
       "  (up2): Up(\n",
       "    (up): ConvTranspose2d(512, 256, kernel_size=(2, 2), stride=(2, 2))\n",
       "    (conv): DoubleConv(\n",
       "      (double_conv): Sequential(\n",
       "        (0): Conv2d(512, 256, kernel_size=(3, 3), stride=(1, 1), padding=(1, 1), bias=False)\n",
       "        (1): BatchNorm2d(256, eps=1e-05, momentum=0.1, affine=True, track_running_stats=True)\n",
       "        (2): ReLU(inplace=True)\n",
       "        (3): Conv2d(256, 256, kernel_size=(3, 3), stride=(1, 1), padding=(1, 1), bias=False)\n",
       "        (4): BatchNorm2d(256, eps=1e-05, momentum=0.1, affine=True, track_running_stats=True)\n",
       "        (5): ReLU(inplace=True)\n",
       "      )\n",
       "    )\n",
       "  )\n",
       "  (up3): Up(\n",
       "    (up): ConvTranspose2d(256, 128, kernel_size=(2, 2), stride=(2, 2))\n",
       "    (conv): DoubleConv(\n",
       "      (double_conv): Sequential(\n",
       "        (0): Conv2d(256, 128, kernel_size=(3, 3), stride=(1, 1), padding=(1, 1), bias=False)\n",
       "        (1): BatchNorm2d(128, eps=1e-05, momentum=0.1, affine=True, track_running_stats=True)\n",
       "        (2): ReLU(inplace=True)\n",
       "        (3): Conv2d(128, 128, kernel_size=(3, 3), stride=(1, 1), padding=(1, 1), bias=False)\n",
       "        (4): BatchNorm2d(128, eps=1e-05, momentum=0.1, affine=True, track_running_stats=True)\n",
       "        (5): ReLU(inplace=True)\n",
       "      )\n",
       "    )\n",
       "  )\n",
       "  (up4): Up(\n",
       "    (up): ConvTranspose2d(128, 64, kernel_size=(2, 2), stride=(2, 2))\n",
       "    (conv): DoubleConv(\n",
       "      (double_conv): Sequential(\n",
       "        (0): Conv2d(128, 64, kernel_size=(3, 3), stride=(1, 1), padding=(1, 1), bias=False)\n",
       "        (1): BatchNorm2d(64, eps=1e-05, momentum=0.1, affine=True, track_running_stats=True)\n",
       "        (2): ReLU(inplace=True)\n",
       "        (3): Conv2d(64, 64, kernel_size=(3, 3), stride=(1, 1), padding=(1, 1), bias=False)\n",
       "        (4): BatchNorm2d(64, eps=1e-05, momentum=0.1, affine=True, track_running_stats=True)\n",
       "        (5): ReLU(inplace=True)\n",
       "      )\n",
       "    )\n",
       "  )\n",
       "  (up5): Up(\n",
       "    (up): ConvTranspose2d(64, 32, kernel_size=(2, 2), stride=(2, 2))\n",
       "    (conv): DoubleConv(\n",
       "      (double_conv): Sequential(\n",
       "        (0): Conv2d(64, 32, kernel_size=(3, 3), stride=(1, 1), padding=(1, 1), bias=False)\n",
       "        (1): BatchNorm2d(32, eps=1e-05, momentum=0.1, affine=True, track_running_stats=True)\n",
       "        (2): ReLU(inplace=True)\n",
       "        (3): Conv2d(32, 32, kernel_size=(3, 3), stride=(1, 1), padding=(1, 1), bias=False)\n",
       "        (4): BatchNorm2d(32, eps=1e-05, momentum=0.1, affine=True, track_running_stats=True)\n",
       "        (5): ReLU(inplace=True)\n",
       "      )\n",
       "    )\n",
       "  )\n",
       "  (up6): Up(\n",
       "    (up): ConvTranspose2d(32, 16, kernel_size=(2, 2), stride=(2, 2))\n",
       "    (conv): DoubleConv(\n",
       "      (double_conv): Sequential(\n",
       "        (0): Conv2d(32, 16, kernel_size=(3, 3), stride=(1, 1), padding=(1, 1), bias=False)\n",
       "        (1): BatchNorm2d(16, eps=1e-05, momentum=0.1, affine=True, track_running_stats=True)\n",
       "        (2): ReLU(inplace=True)\n",
       "        (3): Conv2d(16, 16, kernel_size=(3, 3), stride=(1, 1), padding=(1, 1), bias=False)\n",
       "        (4): BatchNorm2d(16, eps=1e-05, momentum=0.1, affine=True, track_running_stats=True)\n",
       "        (5): ReLU(inplace=True)\n",
       "      )\n",
       "    )\n",
       "  )\n",
       "  (outc): OutConv(\n",
       "    (conv): Conv2d(16, 8, kernel_size=(1, 1), stride=(1, 1))\n",
       "  )\n",
       ")"
      ]
     },
     "execution_count": 309,
     "metadata": {},
     "output_type": "execute_result"
    }
   ],
   "source": [
    "model"
   ]
  },
  {
   "cell_type": "code",
   "execution_count": 310,
   "id": "eefa2758",
   "metadata": {},
   "outputs": [
    {
     "name": "stdout",
     "output_type": "stream",
     "text": [
      "Sun Nov 27 21:15:40 2022       \r\n",
      "+-----------------------------------------------------------------------------+\r\n",
      "| NVIDIA-SMI 455.23.05    Driver Version: 455.23.05    CUDA Version: 11.1     |\r\n",
      "|-------------------------------+----------------------+----------------------+\r\n",
      "| GPU  Name        Persistence-M| Bus-Id        Disp.A | Volatile Uncorr. ECC |\r\n",
      "| Fan  Temp  Perf  Pwr:Usage/Cap|         Memory-Usage | GPU-Util  Compute M. |\r\n",
      "|                               |                      |               MIG M. |\r\n",
      "|===============================+======================+======================|\r\n",
      "|   0  Tesla V100-PCIE...  On   | 00000000:86:00.0 Off |                  Off |\r\n",
      "| N/A   36C    P0    35W / 250W |   2411MiB / 32510MiB |      0%      Default |\r\n",
      "|                               |                      |                  N/A |\r\n",
      "+-------------------------------+----------------------+----------------------+\r\n",
      "                                                                               \r\n",
      "+-----------------------------------------------------------------------------+\r\n",
      "| Processes:                                                                  |\r\n",
      "|  GPU   GI   CI        PID   Type   Process name                  GPU Memory |\r\n",
      "|        ID   ID                                                   Usage      |\r\n",
      "|=============================================================================|\r\n",
      "|    0   N/A  N/A     40753      C   ...xier/ipeo_venv/bin/python     2407MiB |\r\n",
      "+-----------------------------------------------------------------------------+\r\n"
     ]
    }
   ],
   "source": [
    "!nvidia-smi"
   ]
  },
  {
   "cell_type": "code",
   "execution_count": 311,
   "id": "8715b8d7",
   "metadata": {},
   "outputs": [
    {
     "name": "stdout",
     "output_type": "stream",
     "text": [
      "368\n"
     ]
    }
   ],
   "source": [
    "test_dataset,test_loader = get_dataloaders(\"test\")"
   ]
  },
  {
   "cell_type": "code",
   "execution_count": 312,
   "id": "1f682f16",
   "metadata": {},
   "outputs": [
    {
     "data": {
      "text/plain": [
       "184"
      ]
     },
     "execution_count": 312,
     "metadata": {},
     "output_type": "execute_result"
    }
   ],
   "source": [
    "len(test_loader)"
   ]
  },
  {
   "cell_type": "code",
   "execution_count": null,
   "id": "442e0628",
   "metadata": {},
   "outputs": [],
   "source": [
    "@torch.no_grad() \n",
    "def test(model, device, test_loader, criterion):\n",
    "    test_loss = 0\n",
    "    accuracy_float = 0 \n",
    "    print(len(test_loader))\n",
    "    test_pred = []\n",
    "    all_acc = []\n",
    "    for data, target in test_loader:\n",
    "        batch_size = len(data)\n",
    "        target = target.type(torch.LongTensor) #avoid an error idk why?\n",
    "        data, target = data.to(device), target.to(device)\n",
    "        output = model(data)\n",
    "        #print(output.shape) #[batch,class,200,200]\n",
    "        #print(target.shape)#[batch,1,200,200]\n",
    "        output = output.permute(1,0,2,3).flatten(1).permute(1,0) #[batch*200*200,class]    \n",
    "        target = target.flatten() #[batch*200*200]\n",
    "   \n",
    "        \n",
    "        test_loss += criterion(output, target)\n",
    "        \n",
    "        predictions = output.argmax(1).cpu().detach().numpy()\n",
    "        ground_truth = target.cpu().detach().numpy()\n",
    "        \n",
    "        predictions = predictions.reshape((batch_size,200,200))\n",
    "        ground_truth = ground_truth.reshape((batch_size,200,200))\n",
    "        \n",
    "        accuracy_batch = (predictions == ground_truth).mean()\n",
    "        accuracy_float += accuracy_batch\n",
    "        for i in range(batch_size):            \n",
    "            all_acc.append((predictions[i] == ground_truth[i]).mean())\n",
    "            test_pred.append(predictions[i])\n",
    "           \n",
    "    test_loss /= len(test_loader.dataset)\n",
    "\n",
    "    print(\n",
    "        \"Test set: Average loss: {:.4f}, Accuracy: {}/{} ({:.0f}%)\".format(\n",
    "            test_loss,\n",
    "            accuracy_float,\n",
    "            len(test_loader),\n",
    "            100.0 * accuracy_float / len(test_loader),\n",
    "        )\n",
    "    )\n",
    "    return test_loss, accuracy_float / len(test_loader.dataset),test_pred,all_acc\n",
    "\n"
   ]
  },
  {
   "cell_type": "code",
   "execution_count": null,
   "id": "2a8ce1cf",
   "metadata": {},
   "outputs": [],
   "source": [
    "device = torch.device(\"cuda\" if torch.cuda.is_available() else \"cpu\")\n",
    "criterion = torch.nn.functional.cross_entropy\n",
    "test_loss, test_acc,test_pred,all_acc = test(model, device, test_loader, criterion) \n"
   ]
  },
  {
   "cell_type": "code",
   "execution_count": 300,
   "id": "d59954d2",
   "metadata": {},
   "outputs": [
    {
     "name": "stdout",
     "output_type": "stream",
     "text": [
      "dataset of length 368\n"
     ]
    },
    {
     "data": {
      "application/vnd.jupyter.widget-view+json": {
       "model_id": "183dffba1cdd48ba9c9e094b58e43e83",
       "version_major": 2,
       "version_minor": 0
      },
      "text/plain": [
       "interactive(children=(Dropdown(description='idx', options=(0, 1, 2, 3, 4, 5, 6, 7, 8, 9, 10, 11, 12, 13, 14, 1…"
      ]
     },
     "metadata": {},
     "output_type": "display_data"
    }
   ],
   "source": [
    "# print predictions\n",
    "#test_dataset\n",
    "import matplotlib\n",
    "print(f\"dataset of length {len(test_dataset)}\")\n",
    "# plot individual samples\n",
    "bounds = np.linspace(0, 7, 8)\n",
    "norm = matplotlib.colors.BoundaryNorm(boundaries=bounds, ncolors=256, extend='both')\n",
    "\n",
    "from ipywidgets import interact\n",
    "@interact(idx=range(214))\n",
    "def plot_sample(idx=0):\n",
    "\n",
    "    img_data, img_label = test_dataset[idx][0],test_dataset[idx][1]\n",
    "    img_pred = test_pred[idx]\n",
    "    print(img_label.shape)\n",
    "    \n",
    "    plt.figure(figsize=(12, 12))\n",
    "    plt.subplot(1,3,1,title=\"Real image\")\n",
    "    fig = plt.imshow(unnormalize(img_data).permute(1,2,0).cpu().detach().numpy())\n",
    "    \n",
    "    plt.subplot(1,3,2,title=\"Predict label\")\n",
    "    plt.imshow(img_pred, norm=norm, cmap='terrain')\n",
    "    plt.colorbar(matplotlib.cm.ScalarMappable(norm=norm, cmap=\"terrain\"),orientation=\"vertical\",shrink=0.3)\n",
    "    \n",
    "    plt.subplot(1,3,3,title=\"True label\")\n",
    "    plt.imshow(np.reshape(img_label,(200,200)), norm=norm, cmap='terrain')\n",
    "    \n",
    "    plt.colorbar(matplotlib.cm.ScalarMappable(norm=norm, cmap=\"terrain\"),orientation=\"vertical\",shrink=0.3)\n",
    "    \n",
    "\n",
    "\n"
   ]
  },
  {
   "cell_type": "code",
   "execution_count": 303,
   "id": "52d50f44",
   "metadata": {},
   "outputs": [
    {
     "data": {
      "text/plain": [
       "tensor([[[0, 0, 0,  ..., 0, 0, 0],\n",
       "         [0, 0, 0,  ..., 0, 0, 0],\n",
       "         [0, 0, 0,  ..., 0, 0, 0],\n",
       "         ...,\n",
       "         [0, 0, 0,  ..., 0, 0, 0],\n",
       "         [0, 0, 0,  ..., 0, 0, 0],\n",
       "         [0, 0, 0,  ..., 0, 0, 0]]], dtype=torch.int16)"
      ]
     },
     "execution_count": 303,
     "metadata": {},
     "output_type": "execute_result"
    }
   ],
   "source": [
    "test_dataset[53][1]"
   ]
  },
  {
   "cell_type": "code",
   "execution_count": 261,
   "id": "f365506e",
   "metadata": {},
   "outputs": [
    {
     "data": {
      "text/plain": [
       "(185, 0.332625)"
      ]
     },
     "execution_count": 261,
     "metadata": {},
     "output_type": "execute_result"
    }
   ],
   "source": [
    "np.argmax(all_acc),all_acc[0]"
   ]
  },
  {
   "cell_type": "code",
   "execution_count": 41,
   "id": "38b677cb",
   "metadata": {},
   "outputs": [
    {
     "data": {
      "text/plain": [
       "<matplotlib.image.AxesImage at 0x2b46298d3a50>"
      ]
     },
     "execution_count": 41,
     "metadata": {},
     "output_type": "execute_result"
    },
    {
     "data": {
      "image/png": "[encoded data removed]",
      "text/plain": [
       "<Figure size 1000x1000 with 3 Axes>"
      ]
     },
     "metadata": {},
     "output_type": "display_data"
    }
   ],
   "source": [
    "import matplotlib\n",
    "plt.figure(figsize=(10, 10))\n",
    "bounds = np.linspace(0, 8, 9)\n",
    "norm = matplotlib.colors.BoundaryNorm(boundaries=bounds, ncolors=256, extend='both')\n",
    "\n",
    "plt.subplot(1,3,1,title=\"Real image\")\n",
    "plt.imshow(unnormalize(data[0]).permute(1,2,0).cpu().detach().numpy())\n",
    "\n",
    "plt.subplot(1,3,2,title=\"Predict label\")\n",
    "plt.imshow(np.reshape(predictions,(200,200)), norm=norm, cmap='terrain')\n",
    "\n",
    "plt.subplot(1,3,3,title=\"True label\")\n",
    "plt.imshow(np.reshape(ground_truth,(200,200)), norm=norm, cmap='terrain')\n"
   ]
  },
  {
   "cell_type": "code",
   "execution_count": 41,
   "id": "baa97444",
   "metadata": {},
   "outputs": [
    {
     "data": {
      "text/plain": [
       "460"
      ]
     },
     "execution_count": 41,
     "metadata": {},
     "output_type": "execute_result"
    }
   ],
   "source": [
    "len(test_pred)"
   ]
  },
  {
   "cell_type": "code",
   "execution_count": 42,
   "id": "181eb246",
   "metadata": {},
   "outputs": [],
   "source": [
    "a = np.reshape(ground_truth,(200,200))\n",
    "b = np.reshape(predictions,(200,200))"
   ]
  },
  {
   "cell_type": "code",
   "execution_count": 47,
   "id": "9f020886",
   "metadata": {},
   "outputs": [
    {
     "data": {
      "text/plain": [
       "array([0, 0, 0, 0, 0, 0, 0, 0, 0, 0, 0, 0, 0, 0, 0, 0, 0, 0, 0, 0, 0, 0,\n",
       "       0, 0, 0, 0, 0, 0, 0, 0, 0, 0, 0, 0, 0, 0, 6, 6, 6, 6, 6, 6, 6, 6,\n",
       "       6, 6, 6, 6, 6, 6, 6, 6, 6, 6, 6, 6, 6, 6, 6, 6, 6, 6, 6, 6, 6, 6,\n",
       "       6, 6, 6, 6, 6, 6, 6, 6, 6, 6, 6, 6, 6, 6, 6, 6, 6, 6, 6, 6, 6, 6,\n",
       "       6, 6, 6, 6, 6, 6, 6, 6, 6, 6, 6, 6, 6, 6, 6, 6, 6, 6, 0, 0, 0, 0,\n",
       "       0, 0, 0, 0, 0, 0, 0, 0, 0, 0, 0, 0, 0, 0, 0, 0, 0, 0, 0, 0, 0, 0,\n",
       "       0, 0, 0, 0, 0, 0, 0, 0, 0, 0, 0, 0, 0, 0, 0, 0, 0, 0, 0, 0, 0, 0,\n",
       "       0, 0, 0, 0, 0, 0, 0, 0, 0, 0, 0, 0, 0, 0, 0, 0, 0, 0, 0, 0, 0, 0,\n",
       "       0, 0, 0, 0, 0, 0, 0, 0, 0, 0, 0, 0, 0, 0, 0, 0, 0, 0, 0, 0, 0, 0,\n",
       "       0, 0])"
      ]
     },
     "execution_count": 47,
     "metadata": {},
     "output_type": "execute_result"
    }
   ],
   "source": [
    "a[100,:]"
   ]
  },
  {
   "cell_type": "code",
   "execution_count": 48,
   "id": "8b68f0c1",
   "metadata": {},
   "outputs": [
    {
     "data": {
      "text/plain": [
       "array([0, 0, 0, 0, 0, 0, 0, 0, 0, 0, 0, 0, 0, 0, 0, 0, 0, 0, 0, 0, 0, 0,\n",
       "       0, 0, 0, 0, 0, 0, 0, 0, 0, 0, 0, 0, 0, 0, 0, 0, 0, 0, 0, 5, 5, 7,\n",
       "       7, 7, 7, 7, 7, 7, 7, 7, 7, 7, 7, 6, 6, 6, 6, 6, 6, 6, 6, 6, 6, 6,\n",
       "       6, 6, 6, 6, 6, 6, 6, 6, 6, 6, 6, 6, 6, 6, 6, 6, 6, 6, 6, 6, 6, 6,\n",
       "       6, 6, 6, 6, 6, 6, 6, 6, 6, 0, 0, 0, 0, 0, 0, 0, 0, 0, 0, 0, 0, 0,\n",
       "       0, 0, 0, 0, 0, 0, 0, 0, 0, 0, 0, 0, 0, 0, 0, 0, 0, 0, 0, 0, 0, 0,\n",
       "       0, 0, 0, 0, 0, 0, 0, 0, 0, 0, 0, 0, 0, 0, 0, 0, 0, 0, 0, 0, 0, 0,\n",
       "       0, 0, 0, 0, 0, 0, 0, 0, 0, 0, 0, 0, 0, 0, 0, 0, 0, 0, 0, 0, 0, 0,\n",
       "       0, 0, 0, 0, 0, 0, 0, 0, 0, 0, 0, 0, 0, 0, 0, 0, 0, 0, 0, 0, 0, 0,\n",
       "       0, 0])"
      ]
     },
     "execution_count": 48,
     "metadata": {},
     "output_type": "execute_result"
    }
   ],
   "source": [
    "b[100,:]"
   ]
  },
  {
   "cell_type": "code",
   "execution_count": 109,
   "id": "9e910675",
   "metadata": {},
   "outputs": [
    {
     "data": {
      "text/plain": [
       "array([0., 1., 2., 3., 4., 5., 6., 7., 8.])"
      ]
     },
     "execution_count": 109,
     "metadata": {},
     "output_type": "execute_result"
    }
   ],
   "source": [
    "bounds = np.linspace(0, 8, 9)\n",
    "bounds"
   ]
  }
 ],
 "metadata": {
  "kernelspec": {
   "display_name": "Python 3 (ipykernel)",
   "language": "python",
   "name": "python3"
  },
  "language_info": {
   "codemirror_mode": {
    "name": "ipython",
    "version": 3
   },
   "file_extension": ".py",
   "mimetype": "text/x-python",
   "name": "python",
   "nbconvert_exporter": "python",
   "pygments_lexer": "ipython3",
   "version": "3.7.7"
  }
 },
 "nbformat": 4,
 "nbformat_minor": 5
}
